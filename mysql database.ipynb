{
 "cells": [
  {
   "cell_type": "code",
   "execution_count": null,
   "metadata": {},
   "outputs": [],
   "source": [
    "create database intouch;\n",
    "use intouch;\n",
    "create table elder_details(Name varchar(50),Age int,Gender varchar(15),Nationality varchar(20),Address varchar(55),Contact_Number int);"
   ]
  }
 ],
 "metadata": {
  "language_info": {
   "name": "python"
  },
  "orig_nbformat": 4
 },
 "nbformat": 4,
 "nbformat_minor": 2
}
